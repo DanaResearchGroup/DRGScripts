{
 "cells": [
  {
   "cell_type": "code",
   "execution_count": null,
   "metadata": {},
   "outputs": [],
   "source": [
    "import os\n",
    "import shutil\n",
    "\n",
    "from arc.common import read_yaml_file\n",
    "\n",
    "from t3 import T3\n",
    "from tests.common import almost_equal, run_minimal\n",
    "from t3.simulate.cantera_IDT import CanteraIDT, get_t_and_p_lists, get_idt_per_phi_p_condition, plot_idt_vs_temperature\n",
    "from t3.utils.fix_cantera import fix_cantera"
   ]
  },
  {
   "cell_type": "code",
   "execution_count": null,
   "metadata": {},
   "outputs": [],
   "source": [
    "# %matplotlib inline\n",
    "%load_ext autoreload\n",
    "%autoreload 2"
   ]
  },
  {
   "cell_type": "code",
   "execution_count": null,
   "metadata": {},
   "outputs": [],
   "source": [
    "#Run this block only if you want: Chemkin to Cantera YAML Conversion\n",
    "import os\n",
    "import numpy as np\n",
    "\n",
    "import cantera as ct\n",
    "from cantera import ck2yaml\n",
    "\n",
    "print(ct.__version__)\n",
    "\n",
    "ck_mech_path = \"/home/nelly/Code/scripts/IDT/data/2BTHF_2017/iteration_1/RMG/cantera/25DMF_COMPLETE.MECH\"\n",
    "ck_thermo_path=\"/home/nelly/Code/scripts/IDT/data/2BTHF_2017/iteration_1/RMG/cantera/25DMF.THERM\"\n",
    "ck_trans_path=\"/home/nelly/Code/scripts/IDT/data/2BTHF_2017/iteration_1/RMG/cantera/25DMF.TRAN\"\n",
    "\n",
    "base_path = os.path.dirname(ck_mech_path)\n",
    "ct_yml_path = os.path.join(base_path, 'chem.yaml')\n",
    "\n",
    "if os.path.isfile(ck_mech_path):\n",
    "    print(\"ok\")\n",
    "\n",
    "parser = ck2yaml.Parser()\n",
    "parser.convert_mech(ck_mech_path, thermo_file=ck_thermo_path, out_name=ct_yml_path)"
   ]
  },
  {
   "cell_type": "code",
   "execution_count": null,
   "metadata": {},
   "outputs": [],
   "source": [
    "#Edit your IDT project name and iteration nmber\n",
    "project_name = \"2BTHF_2017\"\n",
    "iteration_num = 1\n",
    "\n",
    "SIM_DIR = os.path.join(os.getcwd(),f'data/{project_name}')\n",
    "FIG_DIR_IDT = os.path.join(SIM_DIR,f'iteration_{iteration_num}/Figures/')"
   ]
  },
  {
   "cell_type": "code",
   "execution_count": null,
   "metadata": {},
   "outputs": [],
   "source": [
    "#Load T3 input file of your project into a dictionairy\n",
    "yaml_file_path = os.path.join(SIM_DIR,'input.yml')\n",
    "input_dict = read_yaml_file(yaml_file_path)\n",
    "\n",
    "#print the T3 input file dictionairy:\n",
    "for k,v in input_dict.items():\n",
    "    print(k,v)\n",
    "\n",
    "#create a t3 object from your T3 run:\n",
    "rmg_args = input_dict[\"rmg\"]\n",
    "t3_args = input_dict[\"t3\"]\n",
    "qm_args = input_dict[\"qm\"]\n",
    "\n",
    "t3 = T3(project=project_name,\n",
    "        t3=t3_args,\n",
    "        rmg=rmg_args,\n",
    "        qm=qm_args,\n",
    "        )\n",
    "\n",
    "t3.iteration = iteration_num"
   ]
  },
  {
   "cell_type": "code",
   "execution_count": null,
   "metadata": {},
   "outputs": [],
   "source": [
    "t3.project_directory = SIM_DIR\n",
    "t3.set_paths()\n",
    "t3.rmg['reactors'] = [{'type': 'gas batch constant T P',\n",
    "                        'T': [700, 1990], 'P': 20.0,\n",
    "                        'termination_rate_ratio': 0.01},\n",
    "                        ]\n",
    "t3.rmg['species'] = [{'label': 'BTHFX2', 'smiles': 'O1CCCC1(CCCC)', 'concentration': 0, 'role': 'fuel',\n",
    "                        'equivalence_ratios': [0.5, 1.0, 1.5]},\n",
    "                        {'label': 'O2', 'smiles': '[O][O]', 'concentration': 0, 'role': 'oxygen'},\n",
    "                        {'label': 'N2', 'smiles': 'N#N', 'concentration': 0, 'role': 'nitrogen'}]\n",
    "ct_adapter = CanteraIDT(t3=t3.t3,\n",
    "                        rmg=t3.rmg,\n",
    "                        paths=t3.paths,\n",
    "                        logger=t3.logger,\n",
    "                        atol=t3.rmg['model']['atol'],\n",
    "                        rtol=t3.rmg['model']['rtol'],\n",
    "                        )\n",
    "exp_data = None"
   ]
  },
  {
   "cell_type": "code",
   "execution_count": null,
   "metadata": {},
   "outputs": [],
   "source": [
    "###Edit your experimental data:\n",
    "exp_1000_per_T = [0.7478984054806,\n",
    "                      0.982714059690052,\n",
    "                      1.39124627841621,\n",
    "                      1.30022103757639,\n",
    "                      1.38041467656884,\n",
    "                      1.29550459904133,\n",
    "                      1.20775864151308,\n",
    "                      1.16069874064187,\n",
    "                      1.14682844593277,\n",
    "                      1.08077729503059,\n",
    "                      0.949667616334283,\n",
    "                      1.41548827267966,\n",
    "                      1.38523341182989,\n",
    "                      1.32275132275132,\n",
    "                      1.20560364574542,\n",
    "                      1.01067270375162,\n",
    "                      0.877701125212843,\n",
    "                      0.851999216160721,]\n",
    "#The simulation plots IDT [sec] vs. 1000/T [K]\n",
    "exp_idt = [0.000007,\n",
    "                  0.000676,\n",
    "                  0.002251,\n",
    "                  0.001755,\n",
    "                  0.002957,\n",
    "                  0.001831,\n",
    "                  0.001407,\n",
    "                  0.001467,\n",
    "                  0.001471,\n",
    "                  0.001195,\n",
    "                  0.00042,\n",
    "                  0.003031,\n",
    "                  0.002224,\n",
    "                  0.001458,\n",
    "                  0.001409,\n",
    "                  0.000686,\n",
    "                  0.000165,\n",
    "                  0.000124,]\n",
    "\n",
    "exp_data =(exp_1000_per_T, exp_idt)"
   ]
  },
  {
   "cell_type": "code",
   "execution_count": null,
   "metadata": {},
   "outputs": [],
   "source": [
    "ct_adapter.simulate()\n",
    "plot_idt_vs_temperature(idt_dict=ct_adapter.idt_dict,figs_path=FIG_DIR_IDT,exp_data = exp_data)"
   ]
  },
  {
   "cell_type": "code",
   "execution_count": null,
   "metadata": {},
   "outputs": [],
   "source": [
    "# t3.rmg['reactors'] = [{'type': 'gas batch constant T P',\n",
    "#                         'T': [700, 1990], 'P': [1, 50],\n",
    "#                         'termination_rate_ratio': 0.01},\n",
    "#                         ]\n",
    "# t3.rmg['species'] = [{'label': '2BF', 'smiles': 'CCCCC1=CC=CO1', 'concentration': 0, 'role': 'fuel',\n",
    "#                         'equivalence_ratios': [0.5, 1.5]},\n",
    "#                         {'label': 'O2', 'smiles': '[O][O]', 'concentration': 0, 'role': 'oxygen'},\n",
    "#                         {'label': 'N2', 'smiles': 'N#N', 'concentration': 0, 'role': 'nitrogen'}]\n"
   ]
  }
 ],
 "metadata": {
  "kernelspec": {
   "display_name": "t3_env",
   "language": "python",
   "name": "python3"
  },
  "language_info": {
   "codemirror_mode": {
    "name": "ipython",
    "version": 3
   },
   "file_extension": ".py",
   "mimetype": "text/x-python",
   "name": "python",
   "nbconvert_exporter": "python",
   "pygments_lexer": "ipython3",
   "version": "3.7.12"
  }
 },
 "nbformat": 4,
 "nbformat_minor": 2
}
