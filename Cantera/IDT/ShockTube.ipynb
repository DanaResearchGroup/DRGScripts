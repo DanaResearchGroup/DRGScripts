{
 "cells": [
  {
   "cell_type": "code",
   "execution_count": 6,
   "metadata": {},
   "outputs": [],
   "source": [
    "import os\n",
    "import shutil\n",
    "\n",
    "from arc.common import almost_equal_lists, read_yaml_file\n",
    "\n",
    "from t3 import T3\n",
    "from tests.common import almost_equal, run_minimal\n",
    "from t3.simulate.cantera_IDT import CanteraIDT, get_t_and_p_lists, get_idt_per_phi_p_condition, plot_idt_vs_temperature\n",
    "from t3.utils.fix_cantera import fix_cantera"
   ]
  },
  {
   "cell_type": "code",
   "execution_count": 7,
   "metadata": {},
   "outputs": [
    {
     "name": "stdout",
     "output_type": "stream",
     "text": [
      "The autoreload extension is already loaded. To reload it, use:\n",
      "  %reload_ext autoreload\n"
     ]
    }
   ],
   "source": [
    "# %matplotlib inline\n",
    "%load_ext autoreload\n",
    "%autoreload 2"
   ]
  },
  {
   "cell_type": "code",
   "execution_count": 8,
   "metadata": {},
   "outputs": [],
   "source": [
    "project_name = \"2BF_xmr_2038\"\n",
    "iteration_num = 2\n",
    "\n",
    "SIM_DIR = os.path.join(os.getcwd(),f'data/{project_name}')\n",
    "FIG_DIR_IDT = os.path.join(SIM_DIR,f'iteration_{iteration_num}/Figures/')"
   ]
  },
  {
   "cell_type": "code",
   "execution_count": 9,
   "metadata": {},
   "outputs": [
    {
     "name": "stdout",
     "output_type": "stream",
     "text": [
      "project 2BF\n",
      "t3 {'options': {'library_name': '2BF_xmr_2038', 'max_T3_iterations': 15, 'max_RMG_exceptions_allowed': 10, 'modify_concentration_ranges_in_reverse': False, 'modify_concentration_ranges_together': True, 'num_sa_per_temperature_range': 3, 'num_sa_per_pressure_range': 3, 'num_sa_per_concentration_range': 3}, 'sensitivity': {'adapter': 'RMGConstantTP', 'SA_threshold': 0.01, 'pdep_SA_threshold': 0.001, 'ME_methods': ['CSE', 'MSC'], 'top_SA_species': 10, 'top_SA_reactions': 10}}\n",
      "rmg {'database': {'thermo_libraries': ['primaryThermoLibrary', 'BurkeH2O2', '2BF_thermo', '2BF_thermo_wo_rotors', '2FFOH_thermo', '2FFOH_thermo_wo_rotors', '/home/nellymitnik/runs/T3/2BF/xmr_2033/2BF_xmr_2027_b_lib.py', '/home/nellymitnik/runs/T3/2BF/xmr_2033/2BF_xmr_2029_lib.py', 'thermo_DFT_CCSDTF12_BAC', 'DFT_QCI_thermo', 'Spiekermann_refining_elementary_reactions', 'CurranPentane', 'C3', 'CBS_QB3_1dHR', 'FFCM1(-)', 'JetSurF2.0', 's3_5_7_ane', 'naphthalene_H', 'USC-Mech-ii', 'heavy_oil_ccsdtf12_1dHR', 'bio_oil', 'vinylCPD_H', 'Klippenstein_Glarborg2016', 'Fulvene_H', 'Chernov', 'C10H11', 'CH'], 'kinetics_libraries': ['primaryH2O2', '2BF_H_Abstraction', '2BF_kinetics_w_rotors', '2BF_kinetics_wo_rotors', '2FFOH_kinetics_w_rotors', '2FFOH_H_Abstraction', '2FFOH_H_Pdep', '2FFOH_OH_Pdep', 'C2H2_init', 'C2H4+O_Klipp2017', 'CurranPentane', 'FFCM1(-)', 'NOx2018', 'JetSurF2.0', 'Klippenstein_Glarborg2016', 'C10H11', 'C12H11_pdep', 'Lai_Hexylbenzene', '1989_Stewart_2CH3_to_C2H5_H', '2001_Tokmakov_H_Toluene_to_CH3_Benzene', '2003_Miller_Propargyl_Recomb_High_P', '2005_Senosiain_OH_C2H2', 'kislovB', 'c-C5H5_CH3_Sharma', 'fascella', '2006_Joshi_OH_CO', '2009_Sharma_C5H5_CH3_highP', '2015_Buras_C2H3_C4H6_highP', 'C3', 'Methylformate', 'C6H5_C4H4_Mebel', 'vinylCPD_H', 'Mebel_Naphthyl', 'Mebel_C6H5_C2H2', 'Fulvene_H']}, 'species': [{'label': '2BF', 'smiles': 'CCCCC1=CC=CO1', 'concentration': 1, 'observable': True, 'seed_all_rads': ['radical', 'peroxyl']}, {'label': 'O2', 'smiles': '[O][O]', 'concentration': [5.75, 17.25], 'observable': True}, {'label': 'N2', 'smiles': 'N#N', 'concentration': [21.62, 64.86], 'balance': False, 'reactive': False}, {'label': 'hydroperoxyl', 'smiles': '[O]O', 'observable': True}, {'label': 'OH_rad', 'smiles': '[OH]', 'observable': True}, {'label': 'H_rad', 'smiles': '[H]', 'observable': True}, {'label': 'PB8', 'smiles': 'CCCCC1[CH]C=CO1', 'observable': True}, {'label': 'PB9', 'smiles': 'CCCC[C]1CC=CO1', 'observable': True}, {'label': 'PB10', 'smiles': 'CCCCC1=CC[CH]O1', 'observable': True}], 'reactors': [{'type': 'gas batch constant T P', 'T': [700, 1990], 'P': [1.0, 50.0], 'termination_rate_ratio': 0.01}], 'model': {'core_tolerance': [0.2, 0.1, 0.05, 0.02, 0.01]}, 'pdep': {'method': 'MSC', 'max_grain_size': 2, 'max_number_of_grains': 250, 'T': [300, 2010, 10], 'P': [0.01, 100, 10], 'interpolation': 'Chebyshev', 'max_atoms': 28}, 'options': {'save_edge': True, 'save_html': True, 'generate_plots': True}, 'species_constraints': {'allowed': ['input species', 'seed mechanisms', 'reaction libraries'], 'max_C_atoms': 16, 'max_O_atoms': 5, 'max_N_atoms': 0, 'max_Si_atoms': 0, 'max_S_atoms': 0, 'max_heavy_atoms': 10, 'max_radical_electrons': 2, 'max_singlet_carbenes': 1, 'max_carbene_radicals': 1}}\n",
      "qm {'adapter': 'ARC', 'level_of_theory': 'CBS-QB3', 'job_memory': 20, 'job_types': {'rotors': False}}\n",
      "T3 execution initiated on Tue Feb 13 13:56:17 2024\n",
      "\n",
      "################################################################\n",
      "#                                                              #\n",
      "#                  The   Tandem   Tool   (T3)                  #\n",
      "#       for automated chemical kinetic model development       #\n",
      "#                                                              #\n",
      "#                        Version: 0.1.0                        #\n",
      "#                                                              #\n",
      "################################################################\n",
      "\n",
      "\n",
      "The current git HEAD for T3 is:\n",
      "    25b9dbcf4fce5a714c9510fe72e4f2610ad053aa\n",
      "    Wed Jan 24 10:44:05 2024 +0200\n",
      "    (running on the IDT branch)\n",
      "\n",
      "Starting project 2BF_xmr_2038\n",
      "\n",
      "\n",
      "Using the following arguments:\n",
      "\n",
      "project: 2BF_xmr_2038\n",
      "project_directory: /home/nelly/Code/T3/Projects/2BF_xmr_2038\n",
      "verbose: info\n",
      "t3:\n",
      "  options:\n",
      "    max_T3_iterations: 15\n",
      "    max_RMG_exceptions_allowed: 10\n",
      "    library_name: 2BF_xmr_2038\n",
      "    num_sa_per_temperature_range: 3\n",
      "    num_sa_per_pressure_range: 3\n",
      "    num_sa_per_concentration_range: 3\n",
      "    modify_concentration_ranges_together: True\n",
      "    modify_concentration_ranges_in_reverse: False\n",
      "  sensitivity:\n",
      "    adapter: RMGConstantTP\n",
      "    SA_threshold: 0.01\n",
      "    pdep_SA_threshold: 0.001\n",
      "    ME_methods: ['CSE', 'MSC']\n",
      "    top_SA_species: 10\n",
      "    top_SA_reactions: 10\n",
      "rmg:\n",
      "  database:\n",
      "    thermo_libraries: ['primaryThermoLibrary', 'BurkeH2O2', '2BF_thermo', '2BF_thermo_wo_rotors', '2FFOH_thermo', '2FFOH_thermo_wo_rotors', '/home/nellymitnik/runs/T3/2BF/xmr_2033/2BF_xmr_2027_b_lib.py', '/home/nellymitnik/runs/T3/2BF/xmr_2033/2BF_xmr_2029_lib.py', 'thermo_DFT_CCSDTF12_BAC', 'DFT_QCI_thermo', 'Spiekermann_refining_elementary_reactions', 'CurranPentane', 'C3', 'CBS_QB3_1dHR', 'FFCM1(-)', 'JetSurF2.0', 's3_5_7_ane', 'naphthalene_H', 'USC-Mech-ii', 'heavy_oil_ccsdtf12_1dHR', 'bio_oil', 'vinylCPD_H', 'Klippenstein_Glarborg2016', 'Fulvene_H', 'Chernov', 'C10H11', 'CH']\n",
      "    kinetics_libraries: ['primaryH2O2', '2BF_H_Abstraction', '2BF_kinetics_w_rotors', '2BF_kinetics_wo_rotors', '2FFOH_kinetics_w_rotors', '2FFOH_H_Abstraction', '2FFOH_H_Pdep', '2FFOH_OH_Pdep', 'C2H2_init', 'C2H4+O_Klipp2017', 'CurranPentane', 'FFCM1(-)', 'NOx2018', 'JetSurF2.0', 'Klippenstein_Glarborg2016', 'C10H11', 'C12H11_pdep', 'Lai_Hexylbenzene', '1989_Stewart_2CH3_to_C2H5_H', '2001_Tokmakov_H_Toluene_to_CH3_Benzene', '2003_Miller_Propargyl_Recomb_High_P', '2005_Senosiain_OH_C2H2', 'kislovB', 'c-C5H5_CH3_Sharma', 'fascella', '2006_Joshi_OH_CO', '2009_Sharma_C5H5_CH3_highP', '2015_Buras_C2H3_C4H6_highP', 'C3', 'Methylformate', 'C6H5_C4H4_Mebel', 'vinylCPD_H', 'Mebel_Naphthyl', 'Mebel_C6H5_C2H2', 'Fulvene_H']\n",
      "  reactors: [{'type': 'gas batch constant T P', 'T': [700.0, 1990.0], 'P': [1.0, 50.0], 'termination_rate_ratio': 0.01}]\n",
      "  species: [{'label': '2BF', 'concentration': 1.0, 'smiles': 'CCCCC1=CC=CO1', 'observable': True, 'seed_all_rads': [<RadicalTypeEnum.radical: 'radical'>, <RadicalTypeEnum.peroxyl: 'peroxyl'>]}, {'label': 'O2', 'concentration': (5.75, 17.25), 'smiles': '[O][O]', 'observable': True}, {'label': 'N2', 'concentration': (21.62, 64.86), 'smiles': 'N#N', 'reactive': False, 'balance': False}, {'label': 'hydroperoxyl', 'smiles': '[O]O', 'observable': True}, {'label': 'OH_rad', 'smiles': '[OH]', 'observable': True}, {'label': 'H_rad', 'smiles': '[H]', 'observable': True}, {'label': 'PB8', 'smiles': 'CCCCC1[CH]C=CO1', 'observable': True}, {'label': 'PB9', 'smiles': 'CCCC[C]1CC=CO1', 'observable': True}, {'label': 'PB10', 'smiles': 'CCCCC1=CC[CH]O1', 'observable': True}]\n",
      "  model:\n",
      "    core_tolerance: [0.2, 0.1, 0.05, 0.02, 0.01]\n",
      "  pdep:\n",
      "    method: MSC\n",
      "    max_grain_size: 2.0\n",
      "    max_number_of_grains: 250\n",
      "    T: [300, 2010, 10]\n",
      "    P: [0.01, 100, 10]\n",
      "    interpolation: Chebyshev\n",
      "    max_atoms: 28\n",
      "  options:\n",
      "    save_edge: True\n",
      "    save_html: True\n",
      "    generate_plots: True\n",
      "  species_constraints:\n",
      "    allowed: ['input species', 'seed mechanisms', 'reaction libraries']\n",
      "    max_C_atoms: 16\n",
      "    max_O_atoms: 5\n",
      "    max_N_atoms: 0\n",
      "    max_Si_atoms: 0\n",
      "    max_S_atoms: 0\n",
      "    max_heavy_atoms: 10\n",
      "    max_radical_electrons: 2\n",
      "    max_singlet_carbenes: 1\n",
      "    max_carbene_radicals: 1\n",
      "qm:\n",
      "  adapter: ARC\n",
      "  job_memory: 20\n",
      "  level_of_theory: CBS-QB3\n",
      "  job_types:\n",
      "    rotors: False\n",
      "\n"
     ]
    }
   ],
   "source": [
    "#Load T3 input file of your project into a dictionairy\n",
    "yaml_file_path = os.path.join(SIM_DIR,'input.yml')\n",
    "input_dict = read_yaml_file(yaml_file_path)\n",
    "\n",
    "#print the T3 input file dictionairy:\n",
    "for k,v in input_dict.items():\n",
    "    print(k,v)\n",
    "\n",
    "#create a t3 object from your T3 run:\n",
    "rmg_args = input_dict[\"rmg\"]\n",
    "t3_args = input_dict[\"t3\"]\n",
    "qm_args = input_dict[\"qm\"]\n",
    "\n",
    "t3 = T3(project=project_name,\n",
    "        t3=t3_args,\n",
    "        rmg=rmg_args,\n",
    "        qm=qm_args,\n",
    "        )\n",
    "\n",
    "t3.iteration = iteration_num"
   ]
  },
  {
   "cell_type": "code",
   "execution_count": 10,
   "metadata": {},
   "outputs": [
    {
     "name": "stdout",
     "output_type": "stream",
     "text": [
      "radical label: OH(18)\n",
      "Running a simulation using CanteraIDT...\n"
     ]
    }
   ],
   "source": [
    "t3.project_directory = SIM_DIR\n",
    "t3.set_paths()\n",
    "t3.rmg['reactors'] = [{'type': 'gas batch constant T P',\n",
    "                        'T': [700, 1990], 'P': [1, 50],\n",
    "                        'termination_rate_ratio': 0.01},\n",
    "                        ]\n",
    "t3.rmg['species'] = [{'label': '2BF', 'smiles': 'CCCCC1=CC=CO1', 'concentration': 0, 'role': 'fuel',\n",
    "                        'equivalence_ratios': [0.5, 1.5]},\n",
    "                        {'label': 'O2', 'smiles': '[O][O]', 'concentration': 0, 'role': 'oxygen'},\n",
    "                        {'label': 'N2', 'smiles': 'N#N', 'concentration': 0, 'role': 'nitrogen'}]\n",
    "ct_adapter = CanteraIDT(t3=t3.t3,\n",
    "                        rmg=t3.rmg,\n",
    "                        paths=t3.paths,\n",
    "                        logger=t3.logger,\n",
    "                        atol=t3.rmg['model']['atol'],\n",
    "                        rtol=t3.rmg['model']['rtol'],\n",
    "                        )\n",
    "ct_adapter.simulate()\n",
    "plot_idt_vs_temperature(idt_dict=ct_adapter.idt_dict,figs_path=FIG_DIR_IDT)"
   ]
  }
 ],
 "metadata": {
  "kernelspec": {
   "display_name": "Python 3 (ipykernel)",
   "language": "python",
   "name": "python3"
  },
  "language_info": {
   "codemirror_mode": {
    "name": "ipython",
    "version": 3
   },
   "file_extension": ".py",
   "mimetype": "text/x-python",
   "name": "python",
   "nbconvert_exporter": "python",
   "pygments_lexer": "ipython3",
   "version": "3.10.12"
  }
 },
 "nbformat": 4,
 "nbformat_minor": 2
}
