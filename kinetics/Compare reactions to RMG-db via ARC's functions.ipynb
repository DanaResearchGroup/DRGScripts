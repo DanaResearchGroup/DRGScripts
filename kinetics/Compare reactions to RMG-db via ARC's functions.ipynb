{
 "cells": [
  {
   "cell_type": "markdown",
   "id": "074b3ab5",
   "metadata": {},
   "source": [
    "## Compare reactions to RMG-db via ARC's functions"
   ]
  },
  {
   "cell_type": "markdown",
   "id": "cff0e2a1",
   "metadata": {},
   "source": [
    "#### This script will load a Chemkin model, and plots RMG rates (estimations + libraries) in a unified PDF file"
   ]
  },
  {
   "cell_type": "code",
   "execution_count": null,
   "id": "8f2f6e76",
   "metadata": {},
   "outputs": [],
   "source": [
    "from arc.rmgdb import make_rmg_database_object, load_rmg_database, load_families_only\n",
    "from arc.processor import compare_rates\n",
    "from arc.reaction import ARCReaction\n",
    "from arc.species.species import ARCSpecies\n",
    "from rmgpy.kinetics.arrhenius import Arrhenius\n",
    "from rmgpy.chemkin import load_chemkin_file"
   ]
  },
  {
   "cell_type": "code",
   "execution_count": null,
   "id": "43c56136",
   "metadata": {},
   "outputs": [],
   "source": [
    "chemkin_model_path = '/path/to/model/model.inp'  # modify\n",
    "chemkin_dict_path = '/path/to/model/species_dict.txt'  # modify\n",
    "rxns_indices_to_consider = [1, 10, 12, 15, 50, 51, 52, 53]  # modify\n",
    "output_directory = '/mnt/Data/Code/runs/dummy1'  # modify"
   ]
  },
  {
   "cell_type": "code",
   "execution_count": null,
   "id": "e47df051",
   "metadata": {},
   "outputs": [],
   "source": [
    "# takes a while, only run this once\n",
    "\n",
    "db = make_rmg_database_object()\n",
    "load_rmg_database(db)"
   ]
  },
  {
   "cell_type": "code",
   "execution_count": null,
   "id": "c6eb9d92",
   "metadata": {},
   "outputs": [],
   "source": [
    "species_list, reaction_list = load_chemkin_file(path=chemkin_model_path,\n",
    "                                                dictionary_path=chemkin_dict_path,\n",
    "                                               )\n",
    "\n",
    "rxns_to_consider = list()\n",
    "\n",
    "for i, rxn in enumerate(reaction_list):\n",
    "    if i in rxns_indices_to_consider:\n",
    "        arc_rxn = ARCReaction(rmg_reaction=rxn)\n",
    "        arc_rxn.kinetics = rxn.kinetics\n",
    "        arc_rxn.dh_rxn298 = 0\n",
    "        rxns_to_consider.append(arc_rxn)"
   ]
  },
  {
   "cell_type": "code",
   "execution_count": null,
   "id": "4bada1b5",
   "metadata": {},
   "outputs": [],
   "source": [
    "compare_rates(rxns_to_consider,\n",
    "              rmg_database=db,\n",
    "              output_directory=output_directory\n",
    "             )"
   ]
  },
  {
   "cell_type": "code",
   "execution_count": null,
   "id": "a98786d1",
   "metadata": {},
   "outputs": [],
   "source": []
  }
 ],
 "metadata": {
  "kernelspec": {
   "display_name": "Python 3 (ipykernel)",
   "language": "python",
   "name": "python3"
  },
  "language_info": {
   "codemirror_mode": {
    "name": "ipython",
    "version": 3
   },
   "file_extension": ".py",
   "mimetype": "text/x-python",
   "name": "python",
   "nbconvert_exporter": "python",
   "pygments_lexer": "ipython3",
   "version": "3.7.12"
  }
 },
 "nbformat": 4,
 "nbformat_minor": 5
}
