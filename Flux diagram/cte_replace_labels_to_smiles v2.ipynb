{
 "cells": [
  {
   "cell_type": "code",
   "execution_count": 1,
   "id": "6da20cd7",
   "metadata": {},
   "outputs": [
    {
     "name": "stdout",
     "output_type": "stream",
     "text": [
      "Running Cantera version: 2.6.0\n",
      "the terminal traceback:  CompletedProcess(args=['/home/nelly/anaconda3/envs/rmg_env/bin/python', '/home/nelly/OneDrive/Linux backup/scripts/Cantera/Flux diagram/background_script.py', '/home/nelly/OneDrive/Linux backup/scripts/Cantera/Flux diagram/species_dictionary.txt'], returncode=0, stdout=b'the images path:  /home/nelly/OneDrive/Linux backup/scripts/Cantera/Flux diagram/images\\n', stderr=b'')\n"
     ]
    }
   ],
   "source": [
    "import subprocess\n",
    "import os\n",
    "import yaml\n",
    "from yaml.loader import FullLoader\n",
    "import cantera as ct\n",
    "import numpy as np\n",
    "import matplotlib.pyplot as plt\n",
    "import time\n",
    "from pdf2image import convert_from_path #(should be installed in cte env)\n",
    "print('Running Cantera version: ' + ct.__version__)\n",
    "\n",
    "######### Edit the 3 paths below ##############\n",
    "species_dict_path = '/home/nelly/OneDrive/Linux backup/scripts/Cantera/Flux diagram/species_dictionary.txt'\n",
    "output_path='/home/nelly/OneDrive/Linux backup/scripts/Cantera/Flux diagram/output.yml'\n",
    "cantera_annottated_path='/home/nelly/OneDrive/Linux backup/scripts/Cantera/Flux diagram/chem_annotated.cti'\n",
    "###############################################\n",
    "\n",
    "flux_diagram_folder_path=os.path.abspath(_)\n",
    "\n",
    "home = os.getenv(\"HOME\") or os.path.expanduser(\"~\")\n",
    "rmg_pypath = os.path.join(home, 'anaconda3', 'envs', 'rmg_env', 'bin', 'python')\n",
    "if not os.path.isfile(rmg_pypath):\n",
    "    raise Error('Could not find RMG-env')\n",
    "\n",
    "######### Edit the path below ##############\n",
    "command = [rmg_pypath, '/home/nelly/OneDrive/Linux backup/scripts/Cantera/Flux diagram/background_script.py', species_dict_path]\n",
    "############################################\n",
    "\n",
    "completed_process = subprocess.run(command, shell=False, capture_output=True)\n",
    "\n",
    "print(\"the terminal traceback: \",completed_process)\n",
    "\n",
    "\n",
    "############### Edit the Shock Tube initial parameter ################\n",
    "reactorTemperature = 1310  # Kelvin\n",
    "reactorPressure = 3.92*101325.0  # Pascals\n",
    "#Edit the Species labels by their SMILES except of Ar+Ne elements\n",
    "# Define the fuel, oxidizer and set the stoichiometry:\n",
    "gas_X = {'CC1=CC=C(C)O1': 0.01, '[O][O]': 0.075, 'Ar': 0.915}\n",
    "######################################################################"
   ]
  },
  {
   "cell_type": "code",
   "execution_count": 2,
   "id": "14440e06",
   "metadata": {},
   "outputs": [],
   "source": [
    "with open(output_path, 'r') as f:\n",
    "    species_output_dict = yaml.load(stream=f, Loader=yaml.FullLoader)\n",
    "\n",
    "for label in species_output_dict.keys():\n",
    "    if label!='Ne' and label!='Ar': # to avoid brackets in the Ne and Ar elements in cti file\n",
    "        search_text = label\n",
    "        replace_text = species_output_dict[label] #smiles\n",
    "        with open(cantera_annottated_path, 'r') as file:\n",
    "            data = file.read()\n",
    "            data = data.replace(search_text, replace_text)\n",
    "\n",
    "        with open(cantera_annottated_path, 'w') as file:\n",
    "            file.write(data)\n"
   ]
  },
  {
   "cell_type": "code",
   "execution_count": 3,
   "id": "4955313a",
   "metadata": {},
   "outputs": [],
   "source": [
    "def convert_pdf_2_png(smiles,pdf_path):\n",
    "    \"\"\"\n",
    "    Cairo2D in RMG supports PDF (higher resolution than svg/png) \n",
    "    BUT, Graphiz DOT in Cantera doesnt support PDF\n",
    "    SO, converting PDF image to png image results in better resolution than original png\n",
    "    \"\"\"\n",
    "    pdf = convert_from_path(pdf_path, 300) #creates list\n",
    "    pdf[0].save(f'{smiles}.png') #dpi=300\n",
    "\n",
    "\n",
    "def pdf_smiles_2_png(species_output_dict,flux_diagram_folder_path):\n",
    "    \"\"\"\n",
    "    This func goes over the pdf images in images folder, and converts each pdf image to png image\n",
    "    \"\"\"\n",
    "    os.chdir(flux_diagram_folder_path+'/images')\n",
    "    for smiles in species_output_dict.values():\n",
    "        if smiles != \"[Ne]\" and smiles != \"[Ar]\": #avoiding parenthesis for elements\n",
    "            convert_pdf_2_png(smiles,f'{smiles}.pdf')\n",
    "        if smiles == \"[Ne]\":\n",
    "            convert_pdf_2_png('Ne','Ne.pdf')\n",
    "        if smiles == \"[Ar]\":\n",
    "            convert_pdf_2_png('Ar','Ar.pdf')"
   ]
  },
  {
   "cell_type": "code",
   "execution_count": 4,
   "id": "a8fa32c5",
   "metadata": {},
   "outputs": [],
   "source": [
    "# Define the ignition delay time (IDT). This function computes the ignition\n",
    "# delay from the occurrence of the peak concentration for the specified species.\n",
    "def ignitionDelay(states, species):\n",
    "    i_ign = states(species).Y.argmax()\n",
    "    return states.t[i_ign]\n"
   ]
  },
  {
   "cell_type": "code",
   "execution_count": 5,
   "id": "0a89dc96",
   "metadata": {},
   "outputs": [],
   "source": [
    "def shock_tube_simulation(estimatedIgnitionDelayTime,cantera_annottated_path,T,P,X):\n",
    "    # Define the reactor temperature and pressure: Surjean 2013 Shock Tube first experiment out of 8\n",
    "    reactorTemperature = T  # Kelvin\n",
    "    reactorPressure = P  # Pascals\n",
    "\n",
    "    # Load the real gas mechanism:\n",
    "    gas = ct.Solution(cantera_annottated_path)\n",
    "    # Set the state of the gas object:\n",
    "    gas.TP = reactorTemperature, reactorPressure\n",
    "\n",
    "    ##########Edit the Species labels by their SMILES except of Ar+Ne elements ##\n",
    "    # Define the fuel, oxidizer and set the stoichiometry:\n",
    "    #gas.X = {'CC1=CC=C(C)O1': 0.01, '[O][O]': 0.075, 'Ar': 0.915}\n",
    "    gas.X=X\n",
    "    #############################################################################\n",
    "\n",
    "    # Create a reactor object and add it to a reactor network\n",
    "    # In this example, this will be the only reactor in the network\n",
    "    r = ct.Reactor(contents=gas)\n",
    "    reactorNetwork = ct.ReactorNet([r])\n",
    "    timeHistory = ct.SolutionArray(gas, extra=['t'])\n",
    "    # Tic\n",
    "    t0 = time.time()\n",
    "\n",
    "    t = 0\n",
    "\n",
    "    counter = 1\n",
    "    while t < estimatedIgnitionDelayTime:\n",
    "        t = reactorNetwork.step()\n",
    "        if counter % 20 == 0:\n",
    "            # We will save only every 20th value. Otherwise, this takes too long\n",
    "            # Note that the species concentrations are mass fractions\n",
    "            timeHistory.append(r.thermo.state, t=t)\n",
    "        counter += 1\n",
    "\n",
    "    # Toc\n",
    "    t1 = time.time()\n",
    "    time_computed=t1-t0\n",
    "    return timeHistory,gas\n",
    "\n",
    "\n"
   ]
  },
  {
   "cell_type": "code",
   "execution_count": 6,
   "id": "3d9e7f15",
   "metadata": {},
   "outputs": [],
   "source": [
    "def create_dot_and_png_files_in_t_dir(flux_diagram_folder_path,t,tau,gas):\n",
    "    \"\"\"\n",
    "    This func creates a new folder to each t time interval. Inside that folder, 3 files are created:\n",
    "    dot, modified_dot, and png file (the flux diagram itself)\n",
    "    It's importatnt to note that the fluc diagram follows C element --> can be changed\n",
    "    \"\"\"\n",
    "    time=str(np.format_float_scientific(tau*t, unique=False, precision=4))#scientific notation\n",
    "    \n",
    "    # Define the element to follow in the reaction path diagram:\n",
    "    element = 'C'\n",
    "\n",
    "    if t==1:\n",
    "        t_path=flux_diagram_folder_path+\"/tau\"\n",
    "    else:\n",
    "        t_string=str(t)\n",
    "        t_path=flux_diagram_folder_path+'/'+t_string+'tau'\n",
    "\n",
    "    os.mkdir(t_path)\n",
    "    print(\"t_path is: \",t_path, \" t is: \",t)\n",
    "    os.chdir(t_path)\n",
    "    \n",
    "    # Initiate the reaction path diagram:\n",
    "    diagram = ct.ReactionPathDiagram(gas, element)\n",
    "    diagram.font='CMU Serif Roman'\n",
    "    diagram.threshold=1e-3\n",
    "    diagram.dot_options='node[fontsize=10,shape=\"box\"]'\n",
    "    diagram.title = 'Reaction path diagram following {0} in t = '.format(element) + time + ' sec'\n",
    "\n",
    "    print(\"starting creating files at: \",os.getcwd())\n",
    "    dot_file = 'ReactionPathDiagram.dot'\n",
    "    modified_dot_file = 'ReactionPathDiagramModified.dot'\n",
    "    img_file = 'ReactionPathDiagram.png'\n",
    "    \n",
    "    # Write the dot-file first, then create the image from the dot-file with customizable parameters:\n",
    "    diagram.write_dot(dot_file)\n",
    "    return t_path\n",
    "\n",
    "def insert_smiles_image_path_into_dot_file(smiles,content,t_flux_diagram_folder_path,flux_diagram_folder_path): \n",
    "    \"\"\"\n",
    "    This func gets a smiles label and the modified dot file content.\n",
    "    Each variable in content list is a line from the modified dot file content\n",
    "    It updates the content with the path to the smiles png image and returns it\n",
    "    \"\"\"\n",
    "    os.chdir(t_flux_diagram_folder_path)\n",
    "\n",
    "    for i,line in enumerate(content):\n",
    "        if '\"'+smiles+'\"' in line: #smiles format of: '\"C#C\"' \n",
    "            index=line.find('label=\"') #one char index before label\n",
    "            new_line=line[:index]+'label=\"\"'+f' , image=\"{flux_diagram_folder_path}/images/{smiles}.png\"];\\n'\n",
    "            content[i]=new_line              \n",
    "    return content\n",
    "\n",
    "def smiles_images_to_dot(species_output_dict,t_flux_diagram_folder_path,flux_diagram_folder_path):\n",
    "    \"\"\"\n",
    "    This func reads the original dot file. All lines are in content variable (list).\n",
    "    It goes over all the smiles and each smiles sends it to be modified and updated with the png image path in\n",
    "    insert_smiles_image_path_into_dot_file func\n",
    "    \"\"\"\n",
    "    os.chdir(t_flux_diagram_folder_path)\n",
    "\n",
    "    infile = open(\"ReactionPathDiagram.dot\", \"r\")\n",
    "    infile_lines=infile.readlines()\n",
    "    infile.close()\n",
    "    content=infile_lines #list of lines in ReactionPathDiagram.dot\n",
    "    \n",
    "    for smiles in species_output_dict.values():\n",
    "        content=insert_smiles_image_path_into_dot_file(smiles,content,t_flux_diagram_folder_path,flux_diagram_folder_path) #update the content for each smiles\n",
    "\n",
    "    os.chdir(t_flux_diagram_folder_path) \n",
    "    with open(r'ReactionPathDiagramModified.dot', 'w') as outfile:\n",
    "        outfile.writelines(content)\n",
    "\n",
    "def dot_png_command(t_flux_diagram_folder_path):\n",
    "    \"\"\"\n",
    "    The last command requires dot to be in your system path variables, or your system\n",
    "    will not undersand the command \"dot\".\n",
    "    The command -Tpng defines the filetype and needs to fit your filename defined above,\n",
    "    or else you will get errors opening the file later.\n",
    "    The command -Gdpi sets the resolution of the generated image in dpi.\n",
    "    \"\"\"\n",
    "    os.chdir(t_flux_diagram_folder_path)\n",
    "    modified_dot_file = 'ReactionPathDiagramModified.dot'\n",
    "    img_file = 'ReactionPathDiagram.png'\n",
    "    os.system('dot {0} -Tpng -o{1} -Gdpi=300'.format(modified_dot_file, img_file))"
   ]
  },
  {
   "cell_type": "code",
   "execution_count": 7,
   "id": "3c899bfe",
   "metadata": {},
   "outputs": [],
   "source": [
    "def shock_tube_idt_find_tau(cantera_annottated_path,T,P,X):\n",
    "    \"\"\"\n",
    "    This func finds tau in shock tube reactor. If you do not get an ignition within this time,\n",
    "    increase estimatedIgnitionDelayTime.\n",
    "    Let's start by finding the IDT in the first run\n",
    "    \"\"\"\n",
    "    estimatedIgnitionDelayTime = 0.005\n",
    "    timeHistory=shock_tube_simulation(estimatedIgnitionDelayTime,cantera_annottated_path,T,P,X)[0]\n",
    "     # We will use the 'OH' species to compute the ignition delay\n",
    "    tau = ignitionDelay(timeHistory, '[OH]')\n",
    "    print(\"The tau is: \", tau)\n",
    "\n",
    "    ### Plot the result\n",
    "    plt.rcParams['xtick.labelsize'] = 12\n",
    "    plt.rcParams['ytick.labelsize'] = 12\n",
    "    plt.rcParams['figure.autolayout'] = True\n",
    "    plt.rcParams['axes.labelsize'] = 14\n",
    "    plt.rcParams['font.family'] = 'serif'\n",
    "\n",
    "    #Figure illustrating the definition of ignition delay time (IDT).\n",
    "    plt.figure()\n",
    "    plt.plot(timeHistory.t, timeHistory('[OH]').Y, '-o', color='b', markersize=4)\n",
    "    plt.xlabel('Time (s)')\n",
    "    plt.ylabel(r'[OH] mass fraction, $\\mathdefault{Y_{OH}}$')\n",
    "    ax = plt.gca()\n",
    "    plt.savefig(os.path.dirname(cantera_annottated_path)+'/idt_plot.png',dpi=300)\n",
    "    plt.show()\n",
    "    return tau\n"
   ]
  },
  {
   "cell_type": "code",
   "execution_count": 8,
   "id": "86bfffb9",
   "metadata": {},
   "outputs": [],
   "source": [
    "def shock_tube_time_intervals(species_output_dict,flux_diagram_folder_path,cantera_annottated_path,T,P,X):\n",
    "    \"\"\"\n",
    "    This func creates 11 intervals of time: [0.5*tau, 0.6*tau,...,tau, 1.1*tau,...1.5*tau]\n",
    "    Each time is sent to shock_tube_simulation func to simulate the system at that time.\n",
    "    After that, for each time, flux diagram is created\n",
    "    \"\"\"\n",
    "    tau=shock_tube_idt_find_tau(cantera_annottated_path,T,P,X)\n",
    "    time_interval_array=np.arange(0.5, 1.6, 0.1).tolist()\n",
    "    time_interval_array=np.round(time_interval_array, 1).tolist()\n",
    "    for t in time_interval_array:\n",
    "        gas=shock_tube_simulation(t*tau,cantera_annottated_path,T,P,X)[1]\n",
    "        #send it to the dot graphs, give t for the name of the folder and give tau for comuting,give gas\n",
    "        t_path=create_dot_and_png_files_in_t_dir(flux_diagram_folder_path,t,tau,gas)\n",
    "        smiles_images_to_dot(species_output_dict,t_path,flux_diagram_folder_path)\n",
    "        dot_png_command(t_path)\n",
    "        \n",
    "    "
   ]
  },
  {
   "cell_type": "code",
   "execution_count": 9,
   "id": "6aeeb2eb",
   "metadata": {},
   "outputs": [
    {
     "name": "stderr",
     "output_type": "stream",
     "text": [
      "/tmp/ipykernel_151169/1827723813.py:7: DeprecationWarning: XML_Node::build: \n",
      "The CTI and XML input file formats are deprecated and will be removed in\n",
      "Cantera 3.0. Use 'cti2yaml.py' or 'ctml2yaml.py' to convert CTI or XML input\n",
      "files to the YAML format. See https://cantera.org/tutorials/legacy2yaml.html\n",
      "for more information.\n",
      "  gas = ct.Solution(cantera_annottated_path)\n"
     ]
    },
    {
     "name": "stdout",
     "output_type": "stream",
     "text": [
      "The tau is:  0.0007525598809565267\n"
     ]
    },
    {
     "data": {
      "image/png": "[encoded data removed]",
      "text/plain": [
       "<Figure size 640x480 with 1 Axes>"
      ]
     },
     "metadata": {},
     "output_type": "display_data"
    },
    {
     "name": "stdout",
     "output_type": "stream",
     "text": [
      "t_path is:  /home/nelly/OneDrive/Linux backup/scripts/Cantera/Flux diagram/0.5tau  t is:  0.5\n",
      "starting creating files at:  /home/nelly/OneDrive/Linux backup/scripts/Cantera/Flux diagram/0.5tau\n"
     ]
    },
    {
     "name": "stderr",
     "output_type": "stream",
     "text": [
      "dot: graph is too large for cairo-renderer bitmaps. Scaling by 0.997564 to fit\n"
     ]
    },
    {
     "name": "stdout",
     "output_type": "stream",
     "text": [
      "t_path is:  /home/nelly/OneDrive/Linux backup/scripts/Cantera/Flux diagram/0.6tau  t is:  0.6\n",
      "starting creating files at:  /home/nelly/OneDrive/Linux backup/scripts/Cantera/Flux diagram/0.6tau\n"
     ]
    },
    {
     "name": "stderr",
     "output_type": "stream",
     "text": [
      "dot: graph is too large for cairo-renderer bitmaps. Scaling by 0.997564 to fit\n"
     ]
    },
    {
     "name": "stdout",
     "output_type": "stream",
     "text": [
      "t_path is:  /home/nelly/OneDrive/Linux backup/scripts/Cantera/Flux diagram/0.7tau  t is:  0.7\n",
      "starting creating files at:  /home/nelly/OneDrive/Linux backup/scripts/Cantera/Flux diagram/0.7tau\n"
     ]
    },
    {
     "name": "stderr",
     "output_type": "stream",
     "text": [
      "dot: graph is too large for cairo-renderer bitmaps. Scaling by 0.962151 to fit\n"
     ]
    },
    {
     "name": "stdout",
     "output_type": "stream",
     "text": [
      "t_path is:  /home/nelly/OneDrive/Linux backup/scripts/Cantera/Flux diagram/0.8tau  t is:  0.8\n",
      "starting creating files at:  /home/nelly/OneDrive/Linux backup/scripts/Cantera/Flux diagram/0.8tau\n"
     ]
    },
    {
     "name": "stderr",
     "output_type": "stream",
     "text": [
      "dot: graph is too large for cairo-renderer bitmaps. Scaling by 0.988775 to fit\n"
     ]
    },
    {
     "name": "stdout",
     "output_type": "stream",
     "text": [
      "t_path is:  /home/nelly/OneDrive/Linux backup/scripts/Cantera/Flux diagram/0.9tau  t is:  0.9\n",
      "starting creating files at:  /home/nelly/OneDrive/Linux backup/scripts/Cantera/Flux diagram/0.9tau\n"
     ]
    },
    {
     "name": "stderr",
     "output_type": "stream",
     "text": [
      "dot: graph is too large for cairo-renderer bitmaps. Scaling by 0.865775 to fit\n"
     ]
    },
    {
     "name": "stdout",
     "output_type": "stream",
     "text": [
      "t_path is:  /home/nelly/OneDrive/Linux backup/scripts/Cantera/Flux diagram/tau  t is:  1.0\n",
      "starting creating files at:  /home/nelly/OneDrive/Linux backup/scripts/Cantera/Flux diagram/tau\n",
      "t_path is:  /home/nelly/OneDrive/Linux backup/scripts/Cantera/Flux diagram/1.1tau  t is:  1.1\n",
      "starting creating files at:  /home/nelly/OneDrive/Linux backup/scripts/Cantera/Flux diagram/1.1tau\n",
      "t_path is:  /home/nelly/OneDrive/Linux backup/scripts/Cantera/Flux diagram/1.2tau  t is:  1.2\n",
      "starting creating files at:  /home/nelly/OneDrive/Linux backup/scripts/Cantera/Flux diagram/1.2tau\n",
      "t_path is:  /home/nelly/OneDrive/Linux backup/scripts/Cantera/Flux diagram/1.3tau  t is:  1.3\n",
      "starting creating files at:  /home/nelly/OneDrive/Linux backup/scripts/Cantera/Flux diagram/1.3tau\n",
      "t_path is:  /home/nelly/OneDrive/Linux backup/scripts/Cantera/Flux diagram/1.4tau  t is:  1.4\n",
      "starting creating files at:  /home/nelly/OneDrive/Linux backup/scripts/Cantera/Flux diagram/1.4tau\n",
      "t_path is:  /home/nelly/OneDrive/Linux backup/scripts/Cantera/Flux diagram/1.5tau  t is:  1.5\n",
      "starting creating files at:  /home/nelly/OneDrive/Linux backup/scripts/Cantera/Flux diagram/1.5tau\n"
     ]
    }
   ],
   "source": [
    "pdf_smiles_2_png(species_output_dict,flux_diagram_folder_path)\n",
    "shock_tube_time_intervals(species_output_dict,flux_diagram_folder_path,cantera_annottated_path,reactorTemperature,reactorPressure,gas_X)\n"
   ]
  }
 ],
 "metadata": {
  "kernelspec": {
   "display_name": "ct-env",
   "language": "python",
   "name": "python3"
  },
  "language_info": {
   "codemirror_mode": {
    "name": "ipython",
    "version": 3
   },
   "file_extension": ".py",
   "mimetype": "text/x-python",
   "name": "python",
   "nbconvert_exporter": "python",
   "pygments_lexer": "ipython3",
   "version": "3.10.8"
  },
  "vscode": {
   "interpreter": {
    "hash": "00350b05f4811a50194f4f92045344bda2ad7e7b0f9227f15f50b48183847613"
   }
  }
 },
 "nbformat": 4,
 "nbformat_minor": 5
}
