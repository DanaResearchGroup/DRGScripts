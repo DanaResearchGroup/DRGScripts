{
 "cells": [
  {
   "cell_type": "code",
   "execution_count": 23,
   "id": "e97f4b93",
   "metadata": {},
   "outputs": [],
   "source": [
    "from arc import ARC\n",
    "from arc.common import save_yaml_file\n",
    "from rmgpy.chemkin import load_chemkin_file"
   ]
  },
  {
   "cell_type": "code",
   "execution_count": 25,
   "id": "1b1fee4c",
   "metadata": {},
   "outputs": [],
   "source": [
    "chemkin_path = '/home/alon/Code/runs/RMG/JM_5/chemkin/chem_edge_annotated.inp'\n",
    "dict_path = '/home/alon/Code/runs/RMG/JM_5/chemkin/species_edge_dictionary.txt'\n",
    "output_path = '/home/alon/Code/runs/RMG/JM_5/chemkin/input.yml'"
   ]
  },
  {
   "cell_type": "code",
   "execution_count": 7,
   "id": "549ee3d4",
   "metadata": {},
   "outputs": [
    {
     "name": "stderr",
     "output_type": "stream",
     "text": [
      "WARNING:root:Unexpected kinetics type <class 'rmgpy.kinetics.falloff.Troe'> for duplicate reaction C9H19(865) <=> C9H19(868). Not combining reactions.\n",
      "WARNING:root:Unexpected kinetics type <class 'rmgpy.kinetics.falloff.Troe'> for duplicate reaction C8H17(858) <=> C8H17(861). Not combining reactions.\n",
      "WARNING:root:Unexpected kinetics type <class 'rmgpy.kinetics.falloff.Troe'> for duplicate reaction S(873) <=> S(877). Not combining reactions.\n",
      "WARNING:root:Unexpected kinetics type <class 'rmgpy.kinetics.falloff.Troe'> for duplicate reaction S(892) <=> S(895). Not combining reactions.\n",
      "WARNING:root:Unexpected kinetics type <class 'rmgpy.kinetics.falloff.Troe'> for duplicate reaction S(882) <=> S(885). Not combining reactions.\n",
      "WARNING:root:Unexpected kinetics type <class 'rmgpy.kinetics.falloff.Troe'> for duplicate reaction S(891) <=> S(895). Not combining reactions.\n",
      "WARNING:root:Unexpected kinetics type <class 'rmgpy.kinetics.falloff.Troe'> for duplicate reaction C9H19(866) <=> C9H19(867). Not combining reactions.\n"
     ]
    }
   ],
   "source": [
    "species, reactions = load_chemkin_file(path=chemkin_path,\n",
    "                                       dictionary_path=dict_path,\n",
    "                                       check_duplicates=False,\n",
    "                                      )"
   ]
  },
  {
   "cell_type": "code",
   "execution_count": 15,
   "id": "c9d13884",
   "metadata": {},
   "outputs": [
    {
     "name": "stdout",
     "output_type": "stream",
     "text": [
      "Thermo group additivity estimation: group(O2s-OsN3s) + group(O2s-OsH) + group(N3s-HNO) + group(N5dc-HNN) + missing(N1dc-N5dc)\n"
     ]
    }
   ],
   "source": [
    "print(species[1500].thermo.comment)"
   ]
  },
  {
   "cell_type": "code",
   "execution_count": 17,
   "id": "6b5dd755",
   "metadata": {},
   "outputs": [],
   "source": [
    "spc_list = list()\n",
    "for spc in species:\n",
    "    if 'group()' in spc.thermo.comment or 'radical(' in spc.thermo.comment:\n",
    "        spc_list.append(spc) "
   ]
  },
  {
   "cell_type": "code",
   "execution_count": 18,
   "id": "dfda3510",
   "metadata": {},
   "outputs": [
    {
     "name": "stdout",
     "output_type": "stream",
     "text": [
      "1534 259\n"
     ]
    }
   ],
   "source": [
    "print(len(species), len(spc_list))"
   ]
  },
  {
   "cell_type": "code",
   "execution_count": 27,
   "id": "1970d569",
   "metadata": {},
   "outputs": [],
   "source": [
    "content = {'species': list()}\n",
    "\n",
    "for spc in spc_list:\n",
    "    content['species'].append({'label': spc.label, 'adjlist': spc.molecule[0].to_adjacency_list()})"
   ]
  },
  {
   "cell_type": "code",
   "execution_count": 28,
   "id": "77179208",
   "metadata": {},
   "outputs": [],
   "source": [
    "save_yaml_file(path=output_path,\n",
    "               content=content,\n",
    "              )"
   ]
  },
  {
   "cell_type": "code",
   "execution_count": null,
   "id": "048f8148",
   "metadata": {},
   "outputs": [],
   "source": []
  }
 ],
 "metadata": {
  "kernelspec": {
   "display_name": "Python 3 (ipykernel)",
   "language": "python",
   "name": "python3"
  },
  "language_info": {
   "codemirror_mode": {
    "name": "ipython",
    "version": 3
   },
   "file_extension": ".py",
   "mimetype": "text/x-python",
   "name": "python",
   "nbconvert_exporter": "python",
   "pygments_lexer": "ipython3",
   "version": "3.10.8"
  }
 },
 "nbformat": 4,
 "nbformat_minor": 5
}
