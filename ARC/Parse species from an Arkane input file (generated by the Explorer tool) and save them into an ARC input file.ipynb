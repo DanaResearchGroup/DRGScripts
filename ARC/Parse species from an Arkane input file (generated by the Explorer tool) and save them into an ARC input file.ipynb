{
 "cells": [
  {
   "cell_type": "code",
   "execution_count": null,
   "id": "f135580c",
   "metadata": {},
   "outputs": [],
   "source": [
    "from arc.main import ARC\n",
    "from arc.common import save_yaml_file\n",
    "from arc.species import ARCSpecies\n",
    "\n",
    "from arkane.input import load_input_file"
   ]
  },
  {
   "cell_type": "code",
   "execution_count": null,
   "id": "1d093552",
   "metadata": {},
   "outputs": [],
   "source": [
    "path = '/home/alon/Dropbox (MIT)/scripts/DRGScripts/data/Decalin_network0_reduced.py'"
   ]
  },
  {
   "cell_type": "code",
   "execution_count": null,
   "id": "38e6b13d",
   "metadata": {},
   "outputs": [],
   "source": [
    "job_list, reaction_dict, species_dict, transition_state_dict, network_dict, level_of_theory =\\\n",
    "    load_input_file(path)\n"
   ]
  },
  {
   "cell_type": "code",
   "execution_count": null,
   "id": "b7969f05",
   "metadata": {},
   "outputs": [],
   "source": [
    "arc_species = list()\n",
    "\n",
    "for spc in species_dict.values():\n",
    "    # modify this condition to choose which species to pass down to ARC\n",
    "    # if 'group' in spc.thermo.comment or 'radical' in spc.thermo.comment:\n",
    "    if 'DFT_QCI_thermo' not in spc.thermo.comment and 'primaryThermoLibrary' not in spc.thermo.comment:\n",
    "        mul = spc.molecule[0].multiplicity\n",
    "        arc_species.append(ARCSpecies(label=spc.label,\n",
    "                                      mol=spc.molecule[0],\n",
    "                                      multiplicity=mul if mul != 3 else 1,  # in this specific case we don't allow triplets\n",
    "                                      number_of_radicals=2 if mul == 3 else None,  # marke singlet bitads properly\n",
    "                                     ))"
   ]
  },
  {
   "cell_type": "code",
   "execution_count": null,
   "id": "2dbf8d28",
   "metadata": {},
   "outputs": [],
   "source": [
    "# Add additional species manually if needed:\n",
    "arc_species.append(ARCSpecies(label='C1CC[CH]CCCC[CH]C1',\n",
    "                   smiles='C1CC[CH]CCCC[CH]C1',\n",
    "                   multiplicity=1,\n",
    "                   number_of_radicals=2,\n",
    "                  ))\n",
    "\n",
    "print(f'Got {len(arc_species)} species')"
   ]
  },
  {
   "cell_type": "code",
   "execution_count": null,
   "id": "df2c88f8",
   "metadata": {
    "scrolled": true
   },
   "outputs": [],
   "source": [
    "# Write an ARC inpiut file\n",
    "\n",
    "arc_input_file_path = '/home/alon/Dropbox (MIT)/scripts/DRGScripts/data/input.yml'\n",
    "\n",
    "level_of_theory = 'CBS-QB3'\n",
    "\n",
    "arc_object = ARC(project='Project_1',\n",
    "                 species=arc_species,\n",
    "                 level_of_theory=level_of_theory,\n",
    "                )\n",
    "\n",
    "arc_object.write_input_file(path=arc_input_file_path)\n"
   ]
  },
  {
   "cell_type": "code",
   "execution_count": null,
   "id": "a28e5143",
   "metadata": {},
   "outputs": [],
   "source": [
    "# This will write a detailed ARC input file with all default argumets\n",
    "\n",
    "arc_object = ARC(project='Project_1',\n",
    "                 species=arc_species,\n",
    "                 level_of_theory=level_of_theory,\n",
    "                )\n",
    "\n",
    "arc_object.write_input_file(path=arc_input_file_path)"
   ]
  },
  {
   "cell_type": "code",
   "execution_count": null,
   "id": "a0437712",
   "metadata": {},
   "outputs": [],
   "source": [
    "# This will write a minimal (human-readable) ARC input file without unnecessary default argumets\n",
    "\n",
    "content = {'project': 'Project_1',\n",
    "           'level_of_theory': level_of_theory,\n",
    "           # 'species': [spc.as_dict() for spc in arc_species],\n",
    "           'species': [{'label': spc.label,\n",
    "                        'smiles': spc.mol.to_smiles(),\n",
    "                        'multiplicity': spc.multiplicity,\n",
    "                        'number_of_radicals': spc.number_of_radicals,\n",
    "                       } for spc in arc_species],\n",
    "          }\n",
    "\n",
    "save_yaml_file(path=arc_input_file_path,\n",
    "               content=content,\n",
    "              )"
   ]
  },
  {
   "cell_type": "code",
   "execution_count": null,
   "id": "5a84b3a1",
   "metadata": {},
   "outputs": [],
   "source": []
  }
 ],
 "metadata": {
  "kernelspec": {
   "display_name": "Python 3 (ipykernel)",
   "language": "python",
   "name": "python3"
  },
  "language_info": {
   "codemirror_mode": {
    "name": "ipython",
    "version": 3
   },
   "file_extension": ".py",
   "mimetype": "text/x-python",
   "name": "python",
   "nbconvert_exporter": "python",
   "pygments_lexer": "ipython3",
   "version": "3.7.15"
  }
 },
 "nbformat": 4,
 "nbformat_minor": 5
}
