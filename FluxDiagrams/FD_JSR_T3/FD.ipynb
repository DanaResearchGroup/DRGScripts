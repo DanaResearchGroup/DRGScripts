{
 "cells": [
  {
   "cell_type": "code",
   "execution_count": null,
   "metadata": {},
   "outputs": [],
   "source": [
    "import os\n",
    "import sys\n",
    "from IPython.display import display\n",
    "from PIL import Image\n",
    "import t3.utils.flux as flux\n",
    "import yaml\n",
    "from FD_funcs import generate_pdf_files, Iterate_pdf_2_png,add_images_to_nodes"
   ]
  },
  {
   "cell_type": "markdown",
   "metadata": {},
   "source": [
    "# Edit the following: name of this script and FD folder name, observables list in yaml format"
   ]
  },
  {
   "cell_type": "code",
   "execution_count": null,
   "metadata": {},
   "outputs": [],
   "source": [
    "notebook_directory = os.path.abspath(os.path.dirname(os.path.dirname(\"FD.ipynb\")))\n",
    "folder_path = os.path.join('2BF_xmr_2036_flux_diagrams')\n",
    "observables = ['2BF(1)']"
   ]
  },
  {
   "cell_type": "markdown",
   "metadata": {},
   "source": [
    "# Folders paths for this script usage convention"
   ]
  },
  {
   "cell_type": "code",
   "execution_count": null,
   "metadata": {},
   "outputs": [],
   "source": [
    "model_path = os.path.join(notebook_directory, 'models', 'output.yaml')\n",
    "dict_path = os.path.join(notebook_directory, 'models', 'species_dictionary.txt')"
   ]
  },
  {
   "cell_type": "markdown",
   "metadata": {},
   "source": [
    "# Create images of molecular structure which occur in yaml file"
   ]
  },
  {
   "cell_type": "code",
   "execution_count": null,
   "metadata": {},
   "outputs": [],
   "source": [
    "dict_species = generate_pdf_files(dict_path)\n",
    "Iterate_pdf_2_png(dict_species, notebook_directory)"
   ]
  },
  {
   "cell_type": "markdown",
   "metadata": {},
   "source": [
    "# Simulate a FD of JSR"
   ]
  },
  {
   "cell_type": "code",
   "execution_count": null,
   "metadata": {},
   "outputs": [],
   "source": [
    "\n",
    "flux.generate_flux(model_path=model_path,\n",
    "                   folder_path=folder_path,\n",
    "                   observables=observables,\n",
    "                   times=[2.0],\n",
    "                   composition = {'2BF(1)': 1, 'O2(16)': 11.5, 'N2': 43.24},\n",
    "                   T=900,\n",
    "                   P=1, #bar\n",
    "                   V = 103, #cm^3\n",
    "                   reactor_type='JSR',\n",
    "                   explore_tol=0.90,\n",
    "                   dead_end_tol=0.10,\n",
    "                   generate_separate_diagrams_per_observable=True,\n",
    "                   display_flux_ratio=True,\n",
    "                   display_concentrations=True,\n",
    "                   display_r_n_p=True,\n",
    "                   )"
   ]
  },
  {
   "cell_type": "markdown",
   "metadata": {},
   "source": [
    "# Add images of molecular structures inside nodes of FDs graphs"
   ]
  },
  {
   "cell_type": "code",
   "execution_count": null,
   "metadata": {},
   "outputs": [],
   "source": [
    "imgs_path = os.path.join(notebook_directory,'models', 'images')\n",
    "for observable in observables:\n",
    "    dot_path = os.path.join (notebook_directory,folder_path,'flux_diagrams', observable, 'flux_diagram_2.0_s.dot')\n",
    "    add_images_to_nodes(dict_species, dot_path, imgs_path)\n"
   ]
  },
  {
   "cell_type": "markdown",
   "metadata": {},
   "source": [
    "# Show the modified FDs"
   ]
  },
  {
   "cell_type": "code",
   "execution_count": null,
   "metadata": {},
   "outputs": [],
   "source": [
    "for observable in observables:\n",
    "    img = Image.open(os.path.join(folder_path, 'flux_diagrams', observable, 'flux_diagram_2.0_s_modified.png'))\n",
    "    print(observable)\n",
    "    display(img)\n",
    "    print('\\n\\n')"
   ]
  }
 ],
 "metadata": {
  "kernelspec": {
   "display_name": "Python 3 (ipykernel)",
   "language": "python",
   "name": "python3"
  },
  "language_info": {
   "codemirror_mode": {
    "name": "ipython",
    "version": 3
   },
   "file_extension": ".py",
   "mimetype": "text/x-python",
   "name": "python",
   "nbconvert_exporter": "python",
   "pygments_lexer": "ipython3",
   "version": "3.7.12"
  }
 },
 "nbformat": 4,
 "nbformat_minor": 2
}
