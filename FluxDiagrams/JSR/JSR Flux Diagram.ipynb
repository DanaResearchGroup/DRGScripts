{
 "cells": [
  {
   "cell_type": "code",
   "execution_count": 1,
   "id": "21e9201c",
   "metadata": {},
   "outputs": [
    {
     "name": "stdout",
     "output_type": "stream",
     "text": [
      "Running Cantera version: 2.6.0\n"
     ]
    }
   ],
   "source": [
    "import subprocess\n",
    "import pandas as pd\n",
    "import time\n",
    "import cantera as ct\n",
    "import numpy as np\n",
    "import os\n",
    "import yaml\n",
    "from flux_diagram_funcs import smiles_images_to_dot, pdf_smiles_2_png\n",
    "\n",
    "print(f\"Running Cantera version: {ct.__version__}\")"
   ]
  },
  {
   "cell_type": "code",
   "execution_count": 2,
   "id": "3e0356fa",
   "metadata": {},
   "outputs": [
    {
     "name": "stderr",
     "output_type": "stream",
     "text": [
      "/tmp/ipykernel_222732/1050384489.py:1: DeprecationWarning: XML_Node::build: \n",
      "The CTI and XML input file formats are deprecated and will be removed in\n",
      "Cantera 3.0. Use 'cti2yaml.py' or 'ctml2yaml.py' to convert CTI or XML input\n",
      "files to the YAML format. See https://cantera.org/tutorials/legacy2yaml.html\n",
      "for more information.\n",
      "  gas = ct.Solution(\"/home/alon/Code/DRGScripts/FluxDiagrams/JSR/example/chem_annotated.cti\")\n"
     ]
    }
   ],
   "source": [
    "gas = ct.Solution(\"/home/alon/Code/DRGScripts/FluxDiagrams/JSR/example/chem_annotated.cti\")"
   ]
  },
  {
   "cell_type": "code",
   "execution_count": 3,
   "id": "799e5c1a",
   "metadata": {},
   "outputs": [],
   "source": [
    "def run_jsr(T, P, tao, bath_gas='N2', vol=33.5):\n",
    "    \"\"\"\n",
    "    Run a JSR.\n",
    "\n",
    "    Args:\n",
    "        T (float): The temperature in K.\n",
    "        P (float): The pressure in Pa.\n",
    "        tao (float): The residence time in s.\n",
    "        bath_gas (str, optional): The bath gas.\n",
    "        vol (float, optional): The reactor volume in cm^3.\n",
    "\n",
    "    Returns:\n",
    "        Tuple[ct.ReactorNet, ct.IdealGasReactor]:\n",
    "            - The reactor network (consisting of the JSR)\n",
    "            - The JSR\n",
    "    \"\"\"\n",
    "    # Inlet gas conditions\n",
    "    reactor_temperature = T\n",
    "    reactor_pressure = P\n",
    "    inlet_concentrations = {\"fuel(1)\": 0.99, bath_gas: 0.01}\n",
    "    gas.TPX = reactor_temperature, reactor_pressure, inlet_concentrations\n",
    "\n",
    "    # Initialize the stirred reactor and connect all peripherals\n",
    "    inlet = ct.Reservoir(gas)\n",
    "    exhaust = ct.Reservoir(gas)\n",
    "    stirred_reactor = ct.IdealGasReactor(gas, energy=\"off\", volume=vol * 1e-6)\n",
    "    mass_flow_controller = ct.MassFlowController(\n",
    "        upstream=inlet,\n",
    "        downstream=stirred_reactor,\n",
    "        mdot=stirred_reactor.mass / tao,\n",
    "    )\n",
    "    pressure_regulator = ct.PressureController(\n",
    "        upstream=stirred_reactor,\n",
    "        downstream=exhaust,\n",
    "        master=mass_flow_controller,\n",
    "    )\n",
    "    reactor_network = ct.ReactorNet([stirred_reactor])\n",
    "    return reactor_network, stirred_reactor"
   ]
  },
  {
   "cell_type": "code",
   "execution_count": 4,
   "id": "4fc799e6",
   "metadata": {},
   "outputs": [],
   "source": [
    "# create the images folder with PDFs and the species SMILES dict as output.yml\n",
    "\n",
    "# Specify a path in which a species_dictionary.txt file exists. All outputs will be saved in that path.\n",
    "work_dir = '/home/alon/Code/DRGScripts/FluxDiagrams/JSR/example/'\n",
    "\n",
    "background_script_path = '/home/alon/Code/DRGScripts/FluxDiagrams/JSR/background_script.py'\n"
   ]
  },
  {
   "cell_type": "code",
   "execution_count": 5,
   "id": "7d5ec3de",
   "metadata": {},
   "outputs": [
    {
     "name": "stdout",
     "output_type": "stream",
     "text": [
      "Traceback: CompletedProcess(args=['/home/alon/mambaforge/envs/rmg_env/bin/python', '/home/alon/Code/DRGScripts/FluxDiagrams/JSR/background_script.py', '/home/alon/Code/DRGScripts/FluxDiagrams/JSR/example/species_dictionary.txt'], returncode=0, stdout=b'the images path: /home/alon/Code/DRGScripts/FluxDiagrams/JSR/example/images\\n', stderr=b'')\n"
     ]
    }
   ],
   "source": [
    "home = os.getenv(\"HOME\") or os.path.expanduser(\"~\")\n",
    "rmg_pypath = os.path.join(home, 'mambaforge', 'envs', 'rmg_env', 'bin', 'python')\n",
    "if not os.path.isfile(rmg_pypath):\n",
    "    raise ValueError('Could not find rmg_env')\n",
    "\n",
    "command = [rmg_pypath,\n",
    "           background_script_path,\n",
    "           os.path.join(work_dir, 'species_dictionary.txt'),\n",
    "          ]\n",
    "\n",
    "completed_process = subprocess.run(command, shell=False, capture_output=True)\n",
    "\n",
    "print(f'Traceback: {completed_process}')"
   ]
  },
  {
   "cell_type": "code",
   "execution_count": 6,
   "id": "a8a878b3",
   "metadata": {},
   "outputs": [
    {
     "name": "stdout",
     "output_type": "stream",
     "text": [
      "0.0010070276189898463\n"
     ]
    }
   ],
   "source": [
    "element = 'C'\n",
    "tao = 0.001\n",
    "\n",
    "T = 1083\n",
    "P = 4 * 1e5\n",
    "\n",
    "reactor_network, stirred_reactor = run_jsr(T=T, P=P, tao=tao, bath_gas='N2', vol=90)\n",
    "t, counter = 0, 1\n",
    "while t < tao:\n",
    "    t = reactor_network.step()\n",
    "\n",
    "print(t)"
   ]
  },
  {
   "cell_type": "code",
   "execution_count": 7,
   "id": "2d99b2bf",
   "metadata": {},
   "outputs": [
    {
     "data": {
      "text/plain": [
       "0"
      ]
     },
     "execution_count": 7,
     "metadata": {},
     "output_type": "execute_result"
    }
   ],
   "source": [
    "# Generate the diagrams\n",
    "\n",
    "tol = 0.15\n",
    "\n",
    "diagram = ct.ReactionPathDiagram(gas, element)\n",
    "diagram.font='CMU Serif Roman'\n",
    "diagram.threshold=tol\n",
    "diagram.dot_options='node[fontsize=10,shape=\"box\"]'\n",
    "diagram.title = f'Fluxes following {element} at t={tao}s, T={T}K, P={P/1e5}bar for tol={tol}'\n",
    "dot_file = os.path.join(work_dir, 'ReactionPathDiagram.dot')\n",
    "mod_dot_file = os.path.join(work_dir, 'ReactionPathDiagramModified.dot')\n",
    "img_file = os.path.join(work_dir, 'ReactionPathDiagram.png')\n",
    "mod_img_file = os.path.join(work_dir, 'ReactionPathDiagramModified.png')\n",
    "\n",
    "diagram.write_dot(dot_file)\n",
    "os.system(f'dot {dot_file} -Tpng -o{img_file} -Gdpi=300')\n",
    "\n",
    "with open(os.path.join(work_dir, 'output.yml'), 'r') as f:\n",
    "    species_output_dict = yaml.load(stream=f, Loader=yaml.FullLoader)\n",
    "\n",
    "pdf_smiles_2_png(species_output_dict=species_output_dict,\n",
    "                 flux_diagram_folder_path=work_dir)\n",
    "\n",
    "smiles_images_to_dot(work_dir)\n",
    "\n",
    "os.system(f'dot {mod_dot_file} -Tpng -o{mod_img_file} -Gdpi=300')"
   ]
  },
  {
   "cell_type": "code",
   "execution_count": null,
   "id": "b4bf92f4",
   "metadata": {},
   "outputs": [],
   "source": []
  },
  {
   "cell_type": "code",
   "execution_count": null,
   "id": "80c71475",
   "metadata": {},
   "outputs": [],
   "source": []
  },
  {
   "cell_type": "code",
   "execution_count": null,
   "id": "89b0ca07",
   "metadata": {},
   "outputs": [],
   "source": []
  },
  {
   "cell_type": "code",
   "execution_count": null,
   "id": "31db3b7a",
   "metadata": {},
   "outputs": [],
   "source": []
  }
 ],
 "metadata": {
  "kernelspec": {
   "display_name": "Python 3 (ipykernel)",
   "language": "python",
   "name": "python3"
  },
  "language_info": {
   "codemirror_mode": {
    "name": "ipython",
    "version": 3
   },
   "file_extension": ".py",
   "mimetype": "text/x-python",
   "name": "python",
   "nbconvert_exporter": "python",
   "pygments_lexer": "ipython3",
   "version": "3.10.8"
  }
 },
 "nbformat": 4,
 "nbformat_minor": 5
}
