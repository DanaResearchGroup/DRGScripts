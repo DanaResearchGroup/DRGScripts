{
 "cells": [
  {
   "cell_type": "code",
   "execution_count": 1,
   "id": "0e615010",
   "metadata": {},
   "outputs": [],
   "source": [
    "import os"
   ]
  },
  {
   "cell_type": "code",
   "execution_count": 4,
   "id": "d05d1157",
   "metadata": {},
   "outputs": [],
   "source": [
    "new_path = '/home/alon/Code/JetFuels/thermo/JetFuels_CBS-QB3.py'\n",
    "path = '/home/alon/Code/JetFuels/thermo/JetFuels_CBS-QB3_mod.py'"
   ]
  },
  {
   "cell_type": "code",
   "execution_count": 5,
   "id": "2a1937ae",
   "metadata": {},
   "outputs": [],
   "source": [
    "with open(path, 'r') as f:\n",
    "    lines = f.readlines()\n",
    "\n",
    "counter = 0\n",
    "new_lines = list()\n",
    "\n",
    "for line in lines:\n",
    "    if 'index =' in line:\n",
    "        new_line = f'    index = {counter},\\n'\n",
    "        counter += 1\n",
    "    else:\n",
    "        new_line = line\n",
    "    new_lines.append(new_line)\n",
    "\n",
    "\n",
    "with open(new_path, 'w') as f:\n",
    "    f.writelines(new_lines)"
   ]
  },
  {
   "cell_type": "code",
   "execution_count": null,
   "id": "2136132a",
   "metadata": {},
   "outputs": [],
   "source": []
  },
  {
   "cell_type": "code",
   "execution_count": null,
   "id": "cf2b49f6",
   "metadata": {},
   "outputs": [],
   "source": []
  }
 ],
 "metadata": {
  "kernelspec": {
   "display_name": "Python 3 (ipykernel)",
   "language": "python",
   "name": "python3"
  },
  "language_info": {
   "codemirror_mode": {
    "name": "ipython",
    "version": 3
   },
   "file_extension": ".py",
   "mimetype": "text/x-python",
   "name": "python",
   "nbconvert_exporter": "python",
   "pygments_lexer": "ipython3",
   "version": "3.7.15"
  }
 },
 "nbformat": 4,
 "nbformat_minor": 5
}
